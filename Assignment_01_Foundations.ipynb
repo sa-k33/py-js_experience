{
  "nbformat": 4,
  "nbformat_minor": 0,
  "metadata": {
    "colab": {
      "provenance": [],
      "include_colab_link": true
    },
    "kernelspec": {
      "name": "python3",
      "display_name": "Python 3"
    },
    "language_info": {
      "name": "python"
    }
  },
  "cells": [
    {
      "cell_type": "markdown",
      "metadata": {
        "id": "view-in-github",
        "colab_type": "text"
      },
      "source": [
        "<a href=\"https://colab.research.google.com/github/sa-k33/py-js_experience/blob/main/Assignment_01_Foundations.ipynb\" target=\"_parent\"><img src=\"https://colab.research.google.com/assets/colab-badge.svg\" alt=\"Open In Colab\"/></a>"
      ]
    },
    {
      "cell_type": "markdown",
      "source": [
        "# Assginment 01 - Data Visualization Foundations\n",
        "SDSC 2004 & GE2343 Data Visualization\n",
        "\n",
        "*__Instruction__: copy the notebook to your own account and fill in your information. After finishing answering, print the notebook to pdf file and upload it to Canvas system.*\n",
        "\n",
        "\n",
        "**Release Date:** Jan 31, 2024\n",
        "\n",
        "**Submission Due:**  Feb 14, 2024"
      ],
      "metadata": {
        "id": "bfs1-XpQOGmO"
      }
    },
    {
      "cell_type": "markdown",
      "source": [
        "**Name:**\n",
        "\n",
        "**Student No.:**\n"
      ],
      "metadata": {
        "id": "5Kl0zUPTTk2P"
      }
    },
    {
      "cell_type": "markdown",
      "source": [
        "# Saving Jupyter notebook to pdf file\n",
        "\n",
        "### run these.\n",
        "\n",
        "```\n",
        "!sudo apt-get install texlive-xetex texlive-fonts-recommended\n",
        "!jupyter nbconvert --to pdf fileName.ipynb\n",
        "```"
      ],
      "metadata": {
        "id": "QnVXIS_jP2Ib"
      }
    },
    {
      "cell_type": "markdown",
      "source": [
        ">[Assginment 01 - Data Visualization Foundations](#updateTitle=true&folderId=1FdlRtWCLgDcCi5u-kwC5F0JH4X_DHl8Z&scrollTo=bfs1-XpQOGmO)\n",
        "\n",
        ">>[Question 1: Data Abstraction - Attributes (20%)](#updateTitle=true&folderId=1FdlRtWCLgDcCi5u-kwC5F0JH4X_DHl8Z&scrollTo=J_rqIn3jrirZ)\n",
        "\n",
        ">>>[Question 1 - Answer](#updateTitle=true&folderId=1FdlRtWCLgDcCi5u-kwC5F0JH4X_DHl8Z&scrollTo=mGlxwQ_OzjmL)\n",
        "\n",
        ">>[Question 2: Visualization design - Analyze plots (25%)](#updateTitle=true&folderId=1FdlRtWCLgDcCi5u-kwC5F0JH4X_DHl8Z&scrollTo=Yzwl1Q265yGj)\n",
        "\n",
        ">>>[Question 2 - Answer](#updateTitle=true&folderId=1FdlRtWCLgDcCi5u-kwC5F0JH4X_DHl8Z&scrollTo=7uPLElb_8D9b)\n",
        "\n",
        ">>[Question 3: Colors (25%)](#updateTitle=true&folderId=1FdlRtWCLgDcCi5u-kwC5F0JH4X_DHl8Z&scrollTo=EDU2frgx8yHX)\n",
        "\n",
        ">>>[Question 3 - Answer](#updateTitle=true&folderId=1FdlRtWCLgDcCi5u-kwC5F0JH4X_DHl8Z&scrollTo=DNM8JGLC9Zjm)\n",
        "\n",
        ">>[Question 4: Programming (30%)](#updateTitle=true&folderId=1FdlRtWCLgDcCi5u-kwC5F0JH4X_DHl8Z&scrollTo=zaPnDFDS9g2N)\n",
        "\n",
        ">>>>[Read Total profit of all months and show it using a line plot (10%)](#updateTitle=true&folderId=1FdlRtWCLgDcCi5u-kwC5F0JH4X_DHl8Z&scrollTo=zaPnDFDS9g2N)\n",
        "\n",
        ">>>>[Get total profit of all months and show line plot with the following Style properties (10%)](#updateTitle=true&folderId=1FdlRtWCLgDcCi5u-kwC5F0JH4X_DHl8Z&scrollTo=zaPnDFDS9g2N)\n",
        "\n",
        ">>>>[Read Total profit of all months and show it using a line plot (10%)](#updateTitle=true&folderId=1FdlRtWCLgDcCi5u-kwC5F0JH4X_DHl8Z&scrollTo=zaPnDFDS9g2N)\n",
        "\n",
        ">>>[Question 4 - Answer](#updateTitle=true&folderId=1FdlRtWCLgDcCi5u-kwC5F0JH4X_DHl8Z&scrollTo=9RBFr5SQAlcP)\n",
        "\n"
      ],
      "metadata": {
        "colab_type": "toc",
        "id": "47KRXmRqrVhq"
      }
    },
    {
      "cell_type": "markdown",
      "source": [
        "## Question 1: Data Abstraction - Attributes (20%)\n",
        "\n",
        "What type of attribute (categorical, ordinal, quantitative) are the following?\n",
        "\n",
        "\n",
        "1. 100 meter race times\n",
        "2. College major\n",
        "3. Amazon rating for a product\n",
        "4. Product name\n",
        "5. Weight of your favorite cat\n",
        "6. Personality of your favorite cat\n",
        "7. Rank of your favorite cat in the local feline dominance hierarchy\n",
        "8. Length of your favorite cat's longest whisker\n",
        "9. Size of your favorite sweatpants\n",
        "10. Color of your favorite sweatpants"
      ],
      "metadata": {
        "id": "J_rqIn3jrirZ"
      }
    },
    {
      "cell_type": "markdown",
      "source": [
        "### Question 1 - Answer ###\n",
        "\n",
        "---\n",
        "\n",
        "| Item | Type of attribute |\n",
        "| --- | --- |\n",
        "| 100 meter race times |   |\n",
        "| College major |   |\n",
        "| Amazon rating for a product |   |\n",
        "| Product name |   |\n",
        "| Weight of your favorite cat |   |\n",
        "| Personality of your favorite cat |   |\n",
        "| Rank of your favorite cat in the local feline dominance hierarchy |   |\n",
        "| Length of your favorite cat's longest whisker |   |\n",
        "| Size of your favorite sweatpants |   |\n",
        "| Color of your favorite sweatpants |   |\n"
      ],
      "metadata": {
        "id": "mGlxwQ_OzjmL"
      }
    },
    {
      "cell_type": "markdown",
      "source": [
        "## Question 2: Visualization design - Analyze plots (25%)\n",
        "\n",
        "Provide an analysis of the following plots:\n",
        "\n",
        "![picture](https://drive.google.com/uc?id=1tJhRIz7Kjv8hA6DvvtAAhNoP9CACMvgz)\n",
        "\n",
        "\n",
        "\n",
        "1. State which mark type and which visual channels are being used to visually encode which attributes. (10%)\n",
        "2. State if any attributes are redundantly coded with morethan one channel. (5%)\n",
        "3. Specify two abstract tasks for which this visual encoding would be effective. (10%)\n",
        "\n",
        "\n",
        "\n",
        "\n",
        "\n",
        "\n",
        "\n"
      ],
      "metadata": {
        "id": "Yzwl1Q265yGj"
      }
    },
    {
      "cell_type": "markdown",
      "source": [
        "### Question 2 - Answer ###\n",
        "\n",
        "---\n",
        "\n",
        "**1. State which mark type and which visual channels are being used to visually encode which attributes.**\n",
        "\n",
        "//Answer here\n",
        "\n",
        "**2. State if any attributes are redundantly coded with morethan one channel.**\n",
        "\n",
        "//Answer here\n",
        "\n",
        "**3. Specify two abstract tasks for which this visual encoding would be effective.**\n",
        "\n",
        "//Answer here\n",
        "\n",
        "\n",
        "\n"
      ],
      "metadata": {
        "id": "7uPLElb_8D9b"
      }
    },
    {
      "cell_type": "markdown",
      "source": [
        "## Question 3: Colors (25%)\n",
        "\n",
        "Which statement(s) below is/are true regarding the major problems with using a rainbow colormap for showing ordered data:\n",
        "\n",
        "- A. From a perceptual standpoint, more differences can be observed when greyscale is used compared to a rainbow colormap.\n",
        "\n",
        "- B. The hue channel is not ordered. Colors such as red versus blue versus green versus purple have no intrinsic perceptual ordering.\n",
        "\n",
        "- C. Due to constraints of the human visual system, color is not a useful channel for ordered data.\n",
        "\n",
        "- D. The rainbow is not perceptually linear: a box that shows two or three different discernable colors in some regions of the colormap may show only one distinguishable color in other regions (especially the large green-yellow area near the middle)."
      ],
      "metadata": {
        "id": "EDU2frgx8yHX"
      }
    },
    {
      "cell_type": "markdown",
      "source": [
        "### Question 3 - Answer ###\n",
        "\n",
        "---\n",
        "\n",
        "//Answer here\n"
      ],
      "metadata": {
        "id": "DNM8JGLC9Zjm"
      }
    },
    {
      "cell_type": "markdown",
      "source": [
        "## Question 4: Programming (30%)\n",
        "\n",
        "This question is about using Pandas and Matplotlib to visualize Company Sales Data (the data file can be downloaded [here](https://pynative.com/wp-content/uploads/2019/01/company_sales_data.csv)).\n",
        "\n",
        "#### 1. Read Total profit of all months and show it using a line plot (10%)\n",
        "\n",
        "Total profit data provided for each month. Generated line plot must include the following properties: –\n",
        "\n",
        "- X label name = Month Number\n",
        "- Y label name = Profit in dollar\n",
        "\n",
        "The line plot graph should look like this.\n",
        "\n",
        "![picture](https://drive.google.com/uc?id=14lfvkjuDJIZzZoaK2ilk8Xvce5Clfggp)\n",
        "\n",
        "\n",
        "#### 2. Get total profit of all months and show line plot with the following Style properties (10%)\n",
        "\n",
        "Generated line plot must include following Style properties: –\n",
        "\n",
        "- Line Style dashed and Line-color should be red\n",
        "- Show legend at the lower right location.\n",
        "- X label name = Month Number\n",
        "- Y label name = Profit in dollar\n",
        "- Add a circle marker.\n",
        "- Line marker color as read\n",
        "- Line width should be 3\n",
        "\n",
        "The line plot graph should look like this.\n",
        "\n",
        "![picture](https://drive.google.com/uc?id=1lOPFHqX86ZzylDFn9xcIYXDaoqe4IbPl)\n",
        "\n",
        "#### 3. Read Total profit of all months and show it using a line plot (10%)\n",
        "\n",
        "Display the number of units sold per month for each product using multiline plots. (i.e., Separate Plotline for each product ).\n",
        "\n",
        "The graph should look like this.\n",
        "\n",
        "![picture](https://drive.google.com/uc?id=1fMeBnCPiIj63nuHdu5QjbvLgCql6Z4K3)\n"
      ],
      "metadata": {
        "id": "zaPnDFDS9g2N"
      }
    },
    {
      "cell_type": "markdown",
      "source": [
        "### Question 4 - Answer ###\n",
        "\n",
        "---"
      ],
      "metadata": {
        "id": "9RBFr5SQAlcP"
      }
    },
    {
      "cell_type": "markdown",
      "source": [
        "\n",
        "**1. Read Total profit of all months and show it using a line plot**\n",
        "\n",
        "Total profit data provided for each month. Generated line plot must include the following properties: –\n",
        "\n",
        "- X label name = Month Number\n",
        "- Y label name = Total profit\n",
        "\n",
        "The line plot graph should look like this.\n"
      ],
      "metadata": {
        "id": "rVhPXq2uAvgr"
      }
    },
    {
      "cell_type": "code",
      "source": [
        "import pandas as pd\n",
        "import matplotlib.pyplot as plt\n",
        "\n",
        "# Read the data file\n",
        "\n",
        "# Do the plotting"
      ],
      "metadata": {
        "id": "ilqRuOXTPhlS"
      },
      "execution_count": null,
      "outputs": []
    },
    {
      "cell_type": "markdown",
      "source": [
        "\n",
        "\n",
        "**2. Get total profit of all months and show line plot with the following Style properties**\n",
        "\n",
        "Generated line plot must include following Style properties: –\n",
        "\n",
        "- Line Style dashed and Line-color should be red\n",
        "- Show legend at the lower right location.\n",
        "- X label name = Month Number\n",
        "- Y label name = Profit in dollar\n",
        "- Add a circle marker.\n",
        "- Line marker color as read\n",
        "- Line width should be 3\n"
      ],
      "metadata": {
        "id": "G1zc2k_cA0PN"
      }
    },
    {
      "cell_type": "code",
      "source": [],
      "metadata": {
        "id": "Z3TsBkmVA2Q3"
      },
      "execution_count": null,
      "outputs": []
    },
    {
      "cell_type": "markdown",
      "source": [
        "**3. Read Total profit of all months and show it using a line plot**\n",
        "\n",
        "Display the number of units sold per month for each product using multiline plots. (i.e., Separate Plotline for each product )."
      ],
      "metadata": {
        "id": "LSj0XLHSA375"
      }
    },
    {
      "cell_type": "code",
      "source": [],
      "metadata": {
        "id": "ym_EZpneA5_c"
      },
      "execution_count": null,
      "outputs": []
    }
  ]
}